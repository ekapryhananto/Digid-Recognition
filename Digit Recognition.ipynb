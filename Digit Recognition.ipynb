{
 "cells": [
  {
   "cell_type": "code",
   "execution_count": 2,
   "metadata": {},
   "outputs": [],
   "source": [
    "import numpy as np\n",
    "import pandas as pd\n",
    "import matplotlib.pyplot as plt\n",
    "import seaborn as sns\n",
    "from sklearn.preprocessing import StandardScaler\n",
    "from sklearn.model_selection import train_test_split, GridSearchCV\n",
    "from sklearn.svm import SVC\n",
    "from sklearn.metrics import confusion_matrix, accuracy_score\n",
    "import joblib\n",
    "\n",
    "%matplotlib inline"
   ]
  },
  {
   "cell_type": "markdown",
   "metadata": {},
   "source": [
    "# Ambil Data"
   ]
  },
  {
   "cell_type": "code",
   "execution_count": 3,
   "metadata": {},
   "outputs": [
    {
     "data": {
      "text/html": [
       "<div>\n",
       "<style scoped>\n",
       "    .dataframe tbody tr th:only-of-type {\n",
       "        vertical-align: middle;\n",
       "    }\n",
       "\n",
       "    .dataframe tbody tr th {\n",
       "        vertical-align: top;\n",
       "    }\n",
       "\n",
       "    .dataframe thead th {\n",
       "        text-align: right;\n",
       "    }\n",
       "</style>\n",
       "<table border=\"1\" class=\"dataframe\">\n",
       "  <thead>\n",
       "    <tr style=\"text-align: right;\">\n",
       "      <th></th>\n",
       "      <th>label</th>\n",
       "      <th>pixel0</th>\n",
       "      <th>pixel1</th>\n",
       "      <th>pixel2</th>\n",
       "      <th>pixel3</th>\n",
       "      <th>pixel4</th>\n",
       "      <th>pixel5</th>\n",
       "      <th>pixel6</th>\n",
       "      <th>pixel7</th>\n",
       "      <th>pixel8</th>\n",
       "      <th>...</th>\n",
       "      <th>pixel774</th>\n",
       "      <th>pixel775</th>\n",
       "      <th>pixel776</th>\n",
       "      <th>pixel777</th>\n",
       "      <th>pixel778</th>\n",
       "      <th>pixel779</th>\n",
       "      <th>pixel780</th>\n",
       "      <th>pixel781</th>\n",
       "      <th>pixel782</th>\n",
       "      <th>pixel783</th>\n",
       "    </tr>\n",
       "  </thead>\n",
       "  <tbody>\n",
       "    <tr>\n",
       "      <th>0</th>\n",
       "      <td>1</td>\n",
       "      <td>0</td>\n",
       "      <td>0</td>\n",
       "      <td>0</td>\n",
       "      <td>0</td>\n",
       "      <td>0</td>\n",
       "      <td>0</td>\n",
       "      <td>0</td>\n",
       "      <td>0</td>\n",
       "      <td>0</td>\n",
       "      <td>...</td>\n",
       "      <td>0</td>\n",
       "      <td>0</td>\n",
       "      <td>0</td>\n",
       "      <td>0</td>\n",
       "      <td>0</td>\n",
       "      <td>0</td>\n",
       "      <td>0</td>\n",
       "      <td>0</td>\n",
       "      <td>0</td>\n",
       "      <td>0</td>\n",
       "    </tr>\n",
       "    <tr>\n",
       "      <th>1</th>\n",
       "      <td>0</td>\n",
       "      <td>0</td>\n",
       "      <td>0</td>\n",
       "      <td>0</td>\n",
       "      <td>0</td>\n",
       "      <td>0</td>\n",
       "      <td>0</td>\n",
       "      <td>0</td>\n",
       "      <td>0</td>\n",
       "      <td>0</td>\n",
       "      <td>...</td>\n",
       "      <td>0</td>\n",
       "      <td>0</td>\n",
       "      <td>0</td>\n",
       "      <td>0</td>\n",
       "      <td>0</td>\n",
       "      <td>0</td>\n",
       "      <td>0</td>\n",
       "      <td>0</td>\n",
       "      <td>0</td>\n",
       "      <td>0</td>\n",
       "    </tr>\n",
       "    <tr>\n",
       "      <th>2</th>\n",
       "      <td>1</td>\n",
       "      <td>0</td>\n",
       "      <td>0</td>\n",
       "      <td>0</td>\n",
       "      <td>0</td>\n",
       "      <td>0</td>\n",
       "      <td>0</td>\n",
       "      <td>0</td>\n",
       "      <td>0</td>\n",
       "      <td>0</td>\n",
       "      <td>...</td>\n",
       "      <td>0</td>\n",
       "      <td>0</td>\n",
       "      <td>0</td>\n",
       "      <td>0</td>\n",
       "      <td>0</td>\n",
       "      <td>0</td>\n",
       "      <td>0</td>\n",
       "      <td>0</td>\n",
       "      <td>0</td>\n",
       "      <td>0</td>\n",
       "    </tr>\n",
       "    <tr>\n",
       "      <th>3</th>\n",
       "      <td>4</td>\n",
       "      <td>0</td>\n",
       "      <td>0</td>\n",
       "      <td>0</td>\n",
       "      <td>0</td>\n",
       "      <td>0</td>\n",
       "      <td>0</td>\n",
       "      <td>0</td>\n",
       "      <td>0</td>\n",
       "      <td>0</td>\n",
       "      <td>...</td>\n",
       "      <td>0</td>\n",
       "      <td>0</td>\n",
       "      <td>0</td>\n",
       "      <td>0</td>\n",
       "      <td>0</td>\n",
       "      <td>0</td>\n",
       "      <td>0</td>\n",
       "      <td>0</td>\n",
       "      <td>0</td>\n",
       "      <td>0</td>\n",
       "    </tr>\n",
       "    <tr>\n",
       "      <th>4</th>\n",
       "      <td>0</td>\n",
       "      <td>0</td>\n",
       "      <td>0</td>\n",
       "      <td>0</td>\n",
       "      <td>0</td>\n",
       "      <td>0</td>\n",
       "      <td>0</td>\n",
       "      <td>0</td>\n",
       "      <td>0</td>\n",
       "      <td>0</td>\n",
       "      <td>...</td>\n",
       "      <td>0</td>\n",
       "      <td>0</td>\n",
       "      <td>0</td>\n",
       "      <td>0</td>\n",
       "      <td>0</td>\n",
       "      <td>0</td>\n",
       "      <td>0</td>\n",
       "      <td>0</td>\n",
       "      <td>0</td>\n",
       "      <td>0</td>\n",
       "    </tr>\n",
       "  </tbody>\n",
       "</table>\n",
       "<p>5 rows × 785 columns</p>\n",
       "</div>"
      ],
      "text/plain": [
       "   label  pixel0  pixel1  pixel2  pixel3  pixel4  pixel5  pixel6  pixel7  \\\n",
       "0      1       0       0       0       0       0       0       0       0   \n",
       "1      0       0       0       0       0       0       0       0       0   \n",
       "2      1       0       0       0       0       0       0       0       0   \n",
       "3      4       0       0       0       0       0       0       0       0   \n",
       "4      0       0       0       0       0       0       0       0       0   \n",
       "\n",
       "   pixel8  ...  pixel774  pixel775  pixel776  pixel777  pixel778  pixel779  \\\n",
       "0       0  ...         0         0         0         0         0         0   \n",
       "1       0  ...         0         0         0         0         0         0   \n",
       "2       0  ...         0         0         0         0         0         0   \n",
       "3       0  ...         0         0         0         0         0         0   \n",
       "4       0  ...         0         0         0         0         0         0   \n",
       "\n",
       "   pixel780  pixel781  pixel782  pixel783  \n",
       "0         0         0         0         0  \n",
       "1         0         0         0         0  \n",
       "2         0         0         0         0  \n",
       "3         0         0         0         0  \n",
       "4         0         0         0         0  \n",
       "\n",
       "[5 rows x 785 columns]"
      ]
     },
     "execution_count": 3,
     "metadata": {},
     "output_type": "execute_result"
    }
   ],
   "source": [
    "df = pd.read_csv('dataset/train.csv')\n",
    "df.head()"
   ]
  },
  {
   "cell_type": "code",
   "execution_count": 4,
   "metadata": {
    "scrolled": true
   },
   "outputs": [
    {
     "data": {
      "text/plain": [
       "(42000, 785)"
      ]
     },
     "execution_count": 4,
     "metadata": {},
     "output_type": "execute_result"
    }
   ],
   "source": [
    "df.shape"
   ]
  },
  {
   "cell_type": "code",
   "execution_count": 5,
   "metadata": {},
   "outputs": [
    {
     "data": {
      "text/plain": [
       "<AxesSubplot:xlabel='label', ylabel='count'>"
      ]
     },
     "execution_count": 5,
     "metadata": {},
     "output_type": "execute_result"
    },
    {
     "data": {
      "image/png": "[encoded data removed]",
      "text/plain": [
       "<Figure size 432x288 with 1 Axes>"
      ]
     },
     "metadata": {
      "needs_background": "light"
     },
     "output_type": "display_data"
    }
   ],
   "source": [
    "sns.countplot(x='label', data=df)"
   ]
  },
  {
   "cell_type": "code",
   "execution_count": 6,
   "metadata": {},
   "outputs": [
    {
     "data": {
      "text/plain": [
       "1    4684\n",
       "7    4401\n",
       "3    4351\n",
       "9    4188\n",
       "2    4177\n",
       "6    4137\n",
       "0    4132\n",
       "4    4072\n",
       "8    4063\n",
       "5    3795\n",
       "Name: label, dtype: int64"
      ]
     },
     "execution_count": 6,
     "metadata": {},
     "output_type": "execute_result"
    }
   ],
   "source": [
    "df['label'].value_counts()"
   ]
  },
  {
   "cell_type": "code",
   "execution_count": 7,
   "metadata": {
    "scrolled": false
   },
   "outputs": [
    {
     "data": {
      "image/png": "[encoded data removed]",
      "text/plain": [
       "<Figure size 1152x576 with 32 Axes>"
      ]
     },
     "metadata": {
      "needs_background": "light"
     },
     "output_type": "display_data"
    }
   ],
   "source": [
    "fig = plt.figure(figsize=(16, 8))\n",
    "columns = 8\n",
    "rows = 4\n",
    "for i in range(1, columns*rows +1):\n",
    "    img = np.array(df.iloc[i, 1:]).reshape((28,28))\n",
    "    fig.add_subplot(rows, columns, i)\n",
    "    plt.imshow(img, cmap='gray', vmin=0, vmax=255)\n",
    "plt.show()"
   ]
  },
  {
   "cell_type": "markdown",
   "metadata": {},
   "source": [
    "# Cek Null Data "
   ]
  },
  {
   "cell_type": "code",
   "execution_count": 8,
   "metadata": {},
   "outputs": [
    {
     "data": {
      "text/plain": [
       "0"
      ]
     },
     "execution_count": 8,
     "metadata": {},
     "output_type": "execute_result"
    }
   ],
   "source": [
    "df.isnull().sum().max()"
   ]
  },
  {
   "cell_type": "markdown",
   "metadata": {},
   "source": [
    "# Cek Duplicated Data "
   ]
  },
  {
   "cell_type": "code",
   "execution_count": 9,
   "metadata": {},
   "outputs": [
    {
     "data": {
      "text/plain": [
       "False"
      ]
     },
     "execution_count": 9,
     "metadata": {},
     "output_type": "execute_result"
    }
   ],
   "source": [
    "df.duplicated().any()"
   ]
  },
  {
   "cell_type": "code",
   "execution_count": 10,
   "metadata": {
    "scrolled": true
   },
   "outputs": [
    {
     "data": {
      "text/plain": [
       "False"
      ]
     },
     "execution_count": 10,
     "metadata": {},
     "output_type": "execute_result"
    }
   ],
   "source": [
    "df.iloc[:, 1:].duplicated().any()"
   ]
  },
  {
   "cell_type": "markdown",
   "metadata": {},
   "source": [
    "# Split Data Prediktor dan Data Target"
   ]
  },
  {
   "cell_type": "code",
   "execution_count": 11,
   "metadata": {},
   "outputs": [
    {
     "data": {
      "text/html": [
       "<div>\n",
       "<style scoped>\n",
       "    .dataframe tbody tr th:only-of-type {\n",
       "        vertical-align: middle;\n",
       "    }\n",
       "\n",
       "    .dataframe tbody tr th {\n",
       "        vertical-align: top;\n",
       "    }\n",
       "\n",
       "    .dataframe thead th {\n",
       "        text-align: right;\n",
       "    }\n",
       "</style>\n",
       "<table border=\"1\" class=\"dataframe\">\n",
       "  <thead>\n",
       "    <tr style=\"text-align: right;\">\n",
       "      <th></th>\n",
       "      <th>pixel0</th>\n",
       "      <th>pixel1</th>\n",
       "      <th>pixel2</th>\n",
       "      <th>pixel3</th>\n",
       "      <th>pixel4</th>\n",
       "      <th>pixel5</th>\n",
       "      <th>pixel6</th>\n",
       "      <th>pixel7</th>\n",
       "      <th>pixel8</th>\n",
       "      <th>pixel9</th>\n",
       "      <th>...</th>\n",
       "      <th>pixel774</th>\n",
       "      <th>pixel775</th>\n",
       "      <th>pixel776</th>\n",
       "      <th>pixel777</th>\n",
       "      <th>pixel778</th>\n",
       "      <th>pixel779</th>\n",
       "      <th>pixel780</th>\n",
       "      <th>pixel781</th>\n",
       "      <th>pixel782</th>\n",
       "      <th>pixel783</th>\n",
       "    </tr>\n",
       "  </thead>\n",
       "  <tbody>\n",
       "    <tr>\n",
       "      <th>0</th>\n",
       "      <td>0</td>\n",
       "      <td>0</td>\n",
       "      <td>0</td>\n",
       "      <td>0</td>\n",
       "      <td>0</td>\n",
       "      <td>0</td>\n",
       "      <td>0</td>\n",
       "      <td>0</td>\n",
       "      <td>0</td>\n",
       "      <td>0</td>\n",
       "      <td>...</td>\n",
       "      <td>0</td>\n",
       "      <td>0</td>\n",
       "      <td>0</td>\n",
       "      <td>0</td>\n",
       "      <td>0</td>\n",
       "      <td>0</td>\n",
       "      <td>0</td>\n",
       "      <td>0</td>\n",
       "      <td>0</td>\n",
       "      <td>0</td>\n",
       "    </tr>\n",
       "    <tr>\n",
       "      <th>1</th>\n",
       "      <td>0</td>\n",
       "      <td>0</td>\n",
       "      <td>0</td>\n",
       "      <td>0</td>\n",
       "      <td>0</td>\n",
       "      <td>0</td>\n",
       "      <td>0</td>\n",
       "      <td>0</td>\n",
       "      <td>0</td>\n",
       "      <td>0</td>\n",
       "      <td>...</td>\n",
       "      <td>0</td>\n",
       "      <td>0</td>\n",
       "      <td>0</td>\n",
       "      <td>0</td>\n",
       "      <td>0</td>\n",
       "      <td>0</td>\n",
       "      <td>0</td>\n",
       "      <td>0</td>\n",
       "      <td>0</td>\n",
       "      <td>0</td>\n",
       "    </tr>\n",
       "    <tr>\n",
       "      <th>2</th>\n",
       "      <td>0</td>\n",
       "      <td>0</td>\n",
       "      <td>0</td>\n",
       "      <td>0</td>\n",
       "      <td>0</td>\n",
       "      <td>0</td>\n",
       "      <td>0</td>\n",
       "      <td>0</td>\n",
       "      <td>0</td>\n",
       "      <td>0</td>\n",
       "      <td>...</td>\n",
       "      <td>0</td>\n",
       "      <td>0</td>\n",
       "      <td>0</td>\n",
       "      <td>0</td>\n",
       "      <td>0</td>\n",
       "      <td>0</td>\n",
       "      <td>0</td>\n",
       "      <td>0</td>\n",
       "      <td>0</td>\n",
       "      <td>0</td>\n",
       "    </tr>\n",
       "    <tr>\n",
       "      <th>3</th>\n",
       "      <td>0</td>\n",
       "      <td>0</td>\n",
       "      <td>0</td>\n",
       "      <td>0</td>\n",
       "      <td>0</td>\n",
       "      <td>0</td>\n",
       "      <td>0</td>\n",
       "      <td>0</td>\n",
       "      <td>0</td>\n",
       "      <td>0</td>\n",
       "      <td>...</td>\n",
       "      <td>0</td>\n",
       "      <td>0</td>\n",
       "      <td>0</td>\n",
       "      <td>0</td>\n",
       "      <td>0</td>\n",
       "      <td>0</td>\n",
       "      <td>0</td>\n",
       "      <td>0</td>\n",
       "      <td>0</td>\n",
       "      <td>0</td>\n",
       "    </tr>\n",
       "    <tr>\n",
       "      <th>4</th>\n",
       "      <td>0</td>\n",
       "      <td>0</td>\n",
       "      <td>0</td>\n",
       "      <td>0</td>\n",
       "      <td>0</td>\n",
       "      <td>0</td>\n",
       "      <td>0</td>\n",
       "      <td>0</td>\n",
       "      <td>0</td>\n",
       "      <td>0</td>\n",
       "      <td>...</td>\n",
       "      <td>0</td>\n",
       "      <td>0</td>\n",
       "      <td>0</td>\n",
       "      <td>0</td>\n",
       "      <td>0</td>\n",
       "      <td>0</td>\n",
       "      <td>0</td>\n",
       "      <td>0</td>\n",
       "      <td>0</td>\n",
       "      <td>0</td>\n",
       "    </tr>\n",
       "  </tbody>\n",
       "</table>\n",
       "<p>5 rows × 784 columns</p>\n",
       "</div>"
      ],
      "text/plain": [
       "   pixel0  pixel1  pixel2  pixel3  pixel4  pixel5  pixel6  pixel7  pixel8  \\\n",
       "0       0       0       0       0       0       0       0       0       0   \n",
       "1       0       0       0       0       0       0       0       0       0   \n",
       "2       0       0       0       0       0       0       0       0       0   \n",
       "3       0       0       0       0       0       0       0       0       0   \n",
       "4       0       0       0       0       0       0       0       0       0   \n",
       "\n",
       "   pixel9  ...  pixel774  pixel775  pixel776  pixel777  pixel778  pixel779  \\\n",
       "0       0  ...         0         0         0         0         0         0   \n",
       "1       0  ...         0         0         0         0         0         0   \n",
       "2       0  ...         0         0         0         0         0         0   \n",
       "3       0  ...         0         0         0         0         0         0   \n",
       "4       0  ...         0         0         0         0         0         0   \n",
       "\n",
       "   pixel780  pixel781  pixel782  pixel783  \n",
       "0         0         0         0         0  \n",
       "1         0         0         0         0  \n",
       "2         0         0         0         0  \n",
       "3         0         0         0         0  \n",
       "4         0         0         0         0  \n",
       "\n",
       "[5 rows x 784 columns]"
      ]
     },
     "execution_count": 11,
     "metadata": {},
     "output_type": "execute_result"
    }
   ],
   "source": [
    "X_df = df.iloc[:, 1:]\n",
    "X_df.head()"
   ]
  },
  {
   "cell_type": "code",
   "execution_count": 12,
   "metadata": {},
   "outputs": [
    {
     "data": {
      "text/html": [
       "<div>\n",
       "<style scoped>\n",
       "    .dataframe tbody tr th:only-of-type {\n",
       "        vertical-align: middle;\n",
       "    }\n",
       "\n",
       "    .dataframe tbody tr th {\n",
       "        vertical-align: top;\n",
       "    }\n",
       "\n",
       "    .dataframe thead th {\n",
       "        text-align: right;\n",
       "    }\n",
       "</style>\n",
       "<table border=\"1\" class=\"dataframe\">\n",
       "  <thead>\n",
       "    <tr style=\"text-align: right;\">\n",
       "      <th></th>\n",
       "      <th>label</th>\n",
       "    </tr>\n",
       "  </thead>\n",
       "  <tbody>\n",
       "    <tr>\n",
       "      <th>0</th>\n",
       "      <td>1</td>\n",
       "    </tr>\n",
       "    <tr>\n",
       "      <th>1</th>\n",
       "      <td>0</td>\n",
       "    </tr>\n",
       "    <tr>\n",
       "      <th>2</th>\n",
       "      <td>1</td>\n",
       "    </tr>\n",
       "    <tr>\n",
       "      <th>3</th>\n",
       "      <td>4</td>\n",
       "    </tr>\n",
       "    <tr>\n",
       "      <th>4</th>\n",
       "      <td>0</td>\n",
       "    </tr>\n",
       "  </tbody>\n",
       "</table>\n",
       "</div>"
      ],
      "text/plain": [
       "   label\n",
       "0      1\n",
       "1      0\n",
       "2      1\n",
       "3      4\n",
       "4      0"
      ]
     },
     "execution_count": 12,
     "metadata": {},
     "output_type": "execute_result"
    }
   ],
   "source": [
    "y_df = df.iloc[:, 0:1]\n",
    "y_df.head()"
   ]
  },
  {
   "cell_type": "markdown",
   "metadata": {},
   "source": [
    "# Mengubah Tipe Data Prediktor Menjadi Float dan Target Menjadi Int"
   ]
  },
  {
   "cell_type": "code",
   "execution_count": 13,
   "metadata": {},
   "outputs": [
    {
     "data": {
      "text/plain": [
       "array([dtype('int64')], dtype=object)"
      ]
     },
     "execution_count": 13,
     "metadata": {},
     "output_type": "execute_result"
    }
   ],
   "source": [
    "X_df.dtypes.unique()"
   ]
  },
  {
   "cell_type": "code",
   "execution_count": 14,
   "metadata": {},
   "outputs": [
    {
     "data": {
      "text/plain": [
       "dtype('float64')"
      ]
     },
     "execution_count": 14,
     "metadata": {},
     "output_type": "execute_result"
    }
   ],
   "source": [
    "X_df = X_df.astype('float')\n",
    "X_arr = X_df.to_numpy()\n",
    "X_arr.dtype"
   ]
  },
  {
   "cell_type": "code",
   "execution_count": 15,
   "metadata": {},
   "outputs": [
    {
     "data": {
      "text/plain": [
       "array([dtype('int64')], dtype=object)"
      ]
     },
     "execution_count": 15,
     "metadata": {},
     "output_type": "execute_result"
    }
   ],
   "source": [
    "y_df.dtypes.unique()"
   ]
  },
  {
   "cell_type": "code",
   "execution_count": 16,
   "metadata": {},
   "outputs": [
    {
     "data": {
      "text/plain": [
       "dtype('int64')"
      ]
     },
     "execution_count": 16,
     "metadata": {},
     "output_type": "execute_result"
    }
   ],
   "source": [
    "y_df = y_df.astype('category')\n",
    "y_arr = y_df.to_numpy().T[0]\n",
    "y_arr.dtype"
   ]
  },
  {
   "cell_type": "markdown",
   "metadata": {},
   "source": [
    "# Resizing Gambar"
   ]
  },
  {
   "cell_type": "code",
   "execution_count": 17,
   "metadata": {},
   "outputs": [
    {
     "data": {
      "text/plain": [
       "28.0"
      ]
     },
     "execution_count": 17,
     "metadata": {},
     "output_type": "execute_result"
    }
   ],
   "source": [
    "np.sqrt(X_arr.shape[1])"
   ]
  },
  {
   "cell_type": "markdown",
   "metadata": {},
   "source": [
    "ukuran gambar telah 28x28 piksel tidak perlu diperkecil lagi"
   ]
  },
  {
   "cell_type": "code",
   "execution_count": 18,
   "metadata": {
    "scrolled": false
   },
   "outputs": [
    {
     "data": {
      "text/plain": [
       "<matplotlib.image.AxesImage at 0x23814068430>"
      ]
     },
     "execution_count": 18,
     "metadata": {},
     "output_type": "execute_result"
    },
    {
     "data": {
      "image/png": "[encoded data removed]",
      "text/plain": [
       "<Figure size 288x288 with 1 Axes>"
      ]
     },
     "metadata": {
      "needs_background": "light"
     },
     "output_type": "display_data"
    }
   ],
   "source": [
    "plt.matshow(X_arr[0].reshape((28,28)), cmap='gray', vmin=0, vmax=255)"
   ]
  },
  {
   "cell_type": "markdown",
   "metadata": {},
   "source": [
    "# Feature Scaling "
   ]
  },
  {
   "cell_type": "code",
   "execution_count": 19,
   "metadata": {},
   "outputs": [],
   "source": [
    "scaler = StandardScaler().fit(X_arr)\n",
    "X_scale = scaler.transform(X_arr)"
   ]
  },
  {
   "cell_type": "markdown",
   "metadata": {},
   "source": [
    "# Split Data Training dan Data Testing"
   ]
  },
  {
   "cell_type": "code",
   "execution_count": 20,
   "metadata": {},
   "outputs": [],
   "source": [
    "X_train, X_test, y_train, y_test = train_test_split(X_scale, y_arr, train_size=0.8, test_size=0.2, random_state=42)"
   ]
  },
  {
   "cell_type": "code",
   "execution_count": 21,
   "metadata": {},
   "outputs": [
    {
     "name": "stdout",
     "output_type": "stream",
     "text": [
      "Data Training :  (33600, 784)\n",
      "Data Training :  (33600,)\n",
      "Data Testing :  (8400, 784)\n",
      "Data Testing :  (8400,)\n"
     ]
    }
   ],
   "source": [
    "print(\"Data Training : \", X_train.shape)\n",
    "print(\"Data Training : \", y_train.shape)\n",
    "print(\"Data Testing : \", X_test.shape)\n",
    "print(\"Data Testing : \", y_test.shape)"
   ]
  },
  {
   "cell_type": "code",
   "execution_count": 58,
   "metadata": {},
   "outputs": [
    {
     "data": {
      "text/plain": [
       "array([ 0.        ,  0.        ,  0.        ,  0.        ,  0.        ,\n",
       "        0.        ,  0.        ,  0.        ,  0.        ,  0.        ,\n",
       "        0.        ,  0.        , -0.00528064, -0.00687837, -0.00487956,\n",
       "       -0.00487956,  0.        ,  0.        ,  0.        ,  0.        ,\n",
       "        0.        ,  0.        ,  0.        ,  0.        ,  0.        ,\n",
       "        0.        ,  0.        ,  0.        ,  0.        ,  0.        ,\n",
       "        0.        ,  0.        , -0.00487956, -0.00562918, -0.00932058,\n",
       "       -0.01179981, -0.01630617, -0.02037525, -0.02595147, -0.02996432,\n",
       "       -0.03191077, -0.03224868, -0.03254223, -0.02992467, -0.02981959,\n",
       "       -0.0279073 , -0.02351481, -0.01758085, -0.01536566, -0.00963815,\n",
       "       -0.00830613, -0.00523595,  0.        ,  0.        ,  0.        ,\n",
       "        0.        ,  0.        ,  0.        , -0.00487956, -0.00487956,\n",
       "       -0.00800885, -0.01142835, -0.01984611, -0.02788435, -0.03926102,\n",
       "       -0.05330587, -0.06750354, -0.08468048, -0.10218314, -0.11898204,\n",
       "       -0.13296252, -0.14103566, -0.13933272, -0.13076593, -0.11785894,\n",
       "       -0.10037613, -0.07800373, -0.05610005, -0.03921238, -0.02386099,\n",
       "       -0.01372987, -0.00805699,  0.        ,  0.        ,  0.        ,\n",
       "        0.        , -0.00524431, -0.00793856, -0.01442713, -0.02524314,\n",
       "       -0.03604215, -0.05565746, -0.08118805, -0.10929915, -0.13979401,\n",
       "       -0.1716775 , -0.20075918, -0.22815409, -0.25078797, -0.26339151,\n",
       "       -0.26164696, -0.24529676, -0.21861431, -0.18505161, -0.14675137,\n",
       "       -0.10803686, -0.07737185, -0.04759491, -0.03015689, -0.01576137,\n",
       "       -0.00487956,  0.        ,  0.        , -0.00487956, -0.00805863,\n",
       "       -0.0143583 , -0.02596752, -0.04949423, -0.07875686, -0.11739963,\n",
       "       -0.16379462, -0.21576087, -0.27155511, -0.3327504 , -0.39776065,\n",
       "       -0.42076673,  0.22853603,  1.59140871,  2.45462194,  2.33987327,\n",
       "       -0.04026536, -0.35579134, -0.28394903, -0.21680814, -0.15795317,\n",
       "       -0.10694824, -0.06978361, -0.03712106, -0.01518992,  0.        ,\n",
       "        0.        ,  0.        , -0.01113892, -0.0210555 , -0.05260243,\n",
       "       -0.09031222, -0.13941515, -0.19641639, -0.26410383, -0.34280662,\n",
       "       -0.42858395, -0.52355681, -0.62467037,  0.94687465,  1.55113268,\n",
       "        1.48371415,  1.51379381,  1.64249815,  0.15416123, -0.55487652,\n",
       "       -0.44750358, -0.34638224, -0.25900605, -0.18736262, -0.12894327,\n",
       "       -0.07182574, -0.02985247, -0.00487956,  0.        , -0.00487956,\n",
       "       -0.01499582, -0.0363057 , -0.08016474, -0.13270342, -0.19835658,\n",
       "       -0.27421579, -0.36412719, -0.46797626, -0.58075026, -0.6867051 ,\n",
       "        0.32902749,  1.28979056,  0.5195019 , -0.62212568, -0.63094296,\n",
       "        1.26119379,  0.55017903, -0.72110989, -0.57733218, -0.44966476,\n",
       "       -0.33674298, -0.24567476, -0.17072463, -0.1016424 , -0.04663581,\n",
       "       -0.01336358,  0.        , -0.01465955, -0.02701371, -0.06102015,\n",
       "       -0.11569679, -0.17902956, -0.2576185 , -0.35086072, -0.46215171,\n",
       "       -0.58979896, -0.73307289, -0.25474558,  1.27356427,  0.250862  ,\n",
       "       -1.20821874, -1.23059076, -1.08861185,  0.82276149,  0.39114113,\n",
       "       -0.85513428, -0.68424321, -0.52893731, -0.39402496, -0.28347506,\n",
       "       -0.19396944, -0.116591  , -0.05484019, -0.01312646, -0.00487956,\n",
       "       -0.01966714, -0.04565348, -0.08709763, -0.14414994, -0.21347817,\n",
       "       -0.30059071, -0.40784282, -0.53617253, -0.6886346 , -0.77116686,\n",
       "        1.07194532,  0.6056468 , -1.05618044, -1.10724855, -1.09979609,\n",
       "       -0.90440345,  1.18234328,  0.35757978, -0.90913063, -0.73467321,\n",
       "       -0.56569005, -0.41881751, -0.29397787, -0.1937486 , -0.11833356,\n",
       "       -0.05495157, -0.01156744, -0.00802963, -0.02291559, -0.05483622,\n",
       "       -0.09523029, -0.15354449, -0.22636168, -0.32388971, -0.44315614,\n",
       "       -0.58998831, -0.76053853, -0.81494985,  1.2636815 ,  0.50209165,\n",
       "       -0.94698162, -0.90544782, -0.90920592, -0.74992939,  1.28759734,\n",
       "        0.43739878, -0.80119824, -0.64836505, -0.56400521, -0.41626377,\n",
       "       -0.28572484, -0.17963844, -0.10393458, -0.0458448 , -0.01396049,\n",
       "       -0.00842315, -0.02260664, -0.05397389, -0.09354571, -0.14845318,\n",
       "       -0.22632645, -0.33191147, -0.46431057, -0.62754827, -0.79649133,\n",
       "       -0.83892677,  1.18693337,  0.68548323, -0.79021563, -0.76757921,\n",
       "       -0.79883525, -0.66943814,  1.35168126,  1.32429784,  1.45449284,\n",
       "        1.1397874 , -0.53469159, -0.3942162 , -0.27028754, -0.16069452,\n",
       "       -0.08128088, -0.03642218, -0.01409259, -0.00782744, -0.02014612,\n",
       "       -0.04851062, -0.0821129 , -0.13599483, -0.2243407 , -0.33787506,\n",
       "       -0.48503224, -0.65570964, -0.82002551, -0.90482852,  0.57012864,\n",
       "        1.46088733, -0.5697986 , -0.73958708, -0.80359292, -0.35921734,\n",
       "        1.31732722,  1.33372302,  1.44034838,  0.13565907, -0.49901624,\n",
       "       -0.36891452, -0.25870561, -0.15204971, -0.06306202, -0.02954681,\n",
       "       -0.01087645, -0.00487956, -0.0139234 , -0.03782828, -0.0680383 ,\n",
       "       -0.12535043, -0.22574337, -0.35267445, -0.51093679, -0.68358147,\n",
       "       -0.83415092, -0.89484649,  0.12535012,  1.66444648, -0.56761577,\n",
       "       -0.82131599, -0.8662903 ,  0.63693967,  1.20990647,  1.25219618,\n",
       "       -0.09671205, -0.61482284, -0.47026093, -0.35627883, -0.25742816,\n",
       "       -0.15637199, -0.05469118, -0.02125814, -0.01118903, -0.00487956,\n",
       "       -0.00942173, -0.02649153, -0.05709891, -0.12307399, -0.23905561,\n",
       "       -0.37441939, -0.53518562, -0.70357609, -0.83824541, -0.88156097,\n",
       "       -0.3888052 ,  1.55965928,  0.1576028 , -0.98019736, -0.07618309,\n",
       "        1.11180322,  1.11924152, -0.20151478, -0.77633055, -0.59478164,\n",
       "       -0.46269264, -0.35816936, -0.26558902, -0.16794425, -0.06085912,\n",
       "       -0.02120678, -0.00753764,  0.        , -0.00541364, -0.0176866 ,\n",
       "       -0.04981454, -0.12708392, -0.25757175, -0.39453973, -0.55124841,\n",
       "       -0.70623094, -0.82164163, -0.86372168, -0.75497055,  0.65568922,\n",
       "        1.2105464 ,  0.61361969,  0.93183245,  0.9896641 ,  0.06533219,\n",
       "       -0.87719338, -0.76472471, -0.59777512, -0.47397981, -0.37005127,\n",
       "       -0.27507037, -0.17554698, -0.07020064, -0.02496405, -0.0068401 ,\n",
       "        0.        ,  0.        , -0.01655891, -0.05244446, -0.13856051,\n",
       "       -0.27590047, -0.41056449, -0.55227948, -0.68942775, -0.78911913,\n",
       "       -0.837805  , -0.86566802, -0.16047707,  1.15221382,  1.0419513 ,\n",
       "        1.03997657,  0.80792038, -1.08100494, -0.92753086, -0.75568551,\n",
       "       -0.61309292, -0.49092274, -0.38241238, -0.27989637, -0.17592459,\n",
       "       -0.07654801, -0.02833729, -0.00965741,  0.        , -0.00677969,\n",
       "       -0.02073065, -0.06143705, -0.15616549, -0.2949293 , -0.41950167,\n",
       "       -0.54420588, -0.65736148, -0.73873261, -0.78631983, -0.52109691,\n",
       "        0.87814728,  1.21897227,  1.12690618,  1.12791336, -0.19870523,\n",
       "       -1.0004094 , -0.88506604, -0.74981252, -0.62133188, -0.49719294,\n",
       "       -0.38217591, -0.27439928, -0.17259269, -0.08270271, -0.03409416,\n",
       "       -0.0118695 ,  0.        , -0.00777814, -0.02518087, -0.07419224,\n",
       "       -0.17692085, -0.30974259, -0.42781154, -0.5341264 , -0.62165707,\n",
       "       -0.68359585, -0.27676303,  0.88984031,  1.51280819,  1.36901972,\n",
       "        1.25914917,  0.56886705, -0.98609787, -0.95677198, -0.86405167,\n",
       "       -0.74806713, -0.62067882, -0.48963704, -0.37087998, -0.26035437,\n",
       "       -0.16678746, -0.08678676, -0.03568726, -0.01431191, -0.00687825,\n",
       "       -0.00796887, -0.03265674, -0.09151022, -0.1973142 , -0.325516  ,\n",
       "       -0.4379292 , -0.53515908, -0.60693606, -0.21839035,  1.61063153,\n",
       "        1.68566485,  1.41349108,  0.30836786,  0.89020209,  0.43570799,\n",
       "       -1.01665383, -0.9623979 , -0.86554045, -0.74121853, -0.60282454,\n",
       "       -0.46841627, -0.35045463, -0.24495807, -0.155613  , -0.08349622,\n",
       "       -0.03214952, -0.00947956,  0.        , -0.0071208 , -0.03913562,\n",
       "       -0.10435848, -0.21015118, -0.33677157, -0.45185049, -0.552471  ,\n",
       "       -0.63343622,  0.81431172,  1.66326688,  1.28793891, -0.64709458,\n",
       "       -0.91137453,  0.44433152,  0.59609744, -1.0226974 , -0.97755146,\n",
       "       -0.85370749, -0.70953096, -0.56247056, -0.43135057, -0.31876984,\n",
       "       -0.22124331, -0.13935712, -0.07663601, -0.02998655, -0.00684936,\n",
       "        0.        , -0.00824447, -0.04302571, -0.10980106, -0.20949695,\n",
       "       -0.33008792, -0.45362978, -0.56865685, -0.67298101,  1.0067718 ,\n",
       "        1.49163127,  1.14566744, -0.34406478, -1.04920512, -0.47172163,\n",
       "        1.13389368, -0.53606498, -0.94987068, -0.79561488, -0.63523513,\n",
       "       -0.49171235, -0.37148678, -0.27040095, -0.18577175, -0.11950726,\n",
       "       -0.06603447, -0.02647101, -0.00487956, -0.00487956, -0.00952668,\n",
       "       -0.04022675, -0.10187209, -0.18942423, -0.29974834, -0.42580583,\n",
       "       -0.55509925, -0.68178821,  0.71092723,  1.21437741,  1.26082395,\n",
       "        1.1641076 ,  1.00668434,  0.70554069,  1.14129513,  0.11187852,\n",
       "       -0.84328048, -0.67421247, -0.52600998, -0.40093444, -0.29673023,\n",
       "       -0.21094584, -0.14847605, -0.09588962, -0.04999715, -0.02097137,\n",
       "       -0.00487956, -0.00487956, -0.00634283, -0.03216122, -0.08103421,\n",
       "       -0.14925751, -0.24356844, -0.3582987 , -0.48367667, -0.62025081,\n",
       "       -0.7546665 , -0.56349927,  0.25662249,  0.7495986 ,  1.1332397 ,\n",
       "        1.16807624,  1.29837196,  0.32497256, -0.672119  , -0.52691701,\n",
       "       -0.40353751, -0.30186796, -0.21872481, -0.15691655, -0.10720553,\n",
       "       -0.0686728 , -0.03875155, -0.01332028, -0.00487956,  0.        ,\n",
       "        0.        , -0.02244615, -0.05432798, -0.1013449 , -0.16824557,\n",
       "       -0.26017309, -0.36780853, -0.4874505 , -0.61142825, -0.73420415,\n",
       "       -0.84133475, -0.7862008 ,  0.32826259,  1.13299764,  0.88642657,\n",
       "       -0.35187653, -0.49489399, -0.38177591, -0.28834046, -0.21211611,\n",
       "       -0.15117941, -0.10649573, -0.0720373 , -0.0432154 , -0.02215268,\n",
       "       -0.01159176,  0.        ,  0.        ,  0.        , -0.01025255,\n",
       "       -0.03015716, -0.05864815, -0.09622149, -0.15293889, -0.22086681,\n",
       "       -0.2994179 , -0.38294063, -0.46338522, -0.52712193, -0.56452995,\n",
       "       -0.56307792, -0.53089557, -0.47156749, -0.40084619, -0.32809746,\n",
       "       -0.25611741, -0.19539923, -0.14564718, -0.10152933, -0.07134339,\n",
       "       -0.0475176 , -0.0255836 , -0.01189379, -0.0056808 ,  0.        ,\n",
       "        0.        ,  0.        , -0.00796544, -0.01163182, -0.02882259,\n",
       "       -0.050909  , -0.08383724, -0.12475067, -0.17151129, -0.21891095,\n",
       "       -0.26268363, -0.29345895, -0.30761373, -0.3058502 , -0.29195141,\n",
       "       -0.26786152, -0.23853355, -0.20515071, -0.16518399, -0.12826611,\n",
       "       -0.0943359 , -0.06538587, -0.04661932, -0.02924484, -0.01457968,\n",
       "       -0.00678334, -0.00487956,  0.        ,  0.        ,  0.        ,\n",
       "        0.        ,  0.        , -0.01448132, -0.02899655, -0.05231125,\n",
       "       -0.07738531, -0.10453198, -0.12910793, -0.1540822 , -0.17516678,\n",
       "       -0.18446229, -0.18346805, -0.17205062, -0.15673951, -0.13994334,\n",
       "       -0.12014982, -0.09661002, -0.07550815, -0.05354694, -0.03703241,\n",
       "       -0.02352055, -0.01345256, -0.00614199, -0.00487956,  0.        ,\n",
       "        0.        ,  0.        ,  0.        ,  0.        ,  0.        ,\n",
       "        0.        , -0.00646758, -0.01524284, -0.02093347, -0.02528976,\n",
       "       -0.03051449, -0.0417544 , -0.04633003, -0.05134639, -0.05516904,\n",
       "       -0.06022829, -0.05635892, -0.05160765, -0.04279341, -0.0347366 ,\n",
       "       -0.02527001, -0.01802557, -0.01147285, -0.00909914, -0.00689699,\n",
       "        0.        ,  0.        ,  0.        ,  0.        ])"
      ]
     },
     "execution_count": 58,
     "metadata": {},
     "output_type": "execute_result"
    }
   ],
   "source": [
    "X_test[0]"
   ]
  },
  {
   "cell_type": "markdown",
   "metadata": {},
   "source": [
    "# Membangun Model"
   ]
  },
  {
   "cell_type": "code",
   "execution_count": 22,
   "metadata": {},
   "outputs": [],
   "source": [
    "model_file = \"grid_search_model.pkl\""
   ]
  },
  {
   "cell_type": "code",
   "execution_count": 23,
   "metadata": {},
   "outputs": [],
   "source": [
    "# Load Model\n",
    "model = joblib.load(model_file)"
   ]
  },
  {
   "cell_type": "code",
   "execution_count": 23,
   "metadata": {},
   "outputs": [],
   "source": [
    "# # Training Model\n",
    "# params = {'C': [0.3, 0.6, 1, 3, 6, 10],\n",
    "#          'gamma': ['scale', 'auto']}\n",
    "# model = GridSearchCV(estimator=SVC(), param_grid=params, cv=3, verbose=3)\n",
    "# model.fit(X_train, y_train)"
   ]
  },
  {
   "cell_type": "code",
   "execution_count": 25,
   "metadata": {},
   "outputs": [
    {
     "data": {
      "text/html": [
       "<div>\n",
       "<style scoped>\n",
       "    .dataframe tbody tr th:only-of-type {\n",
       "        vertical-align: middle;\n",
       "    }\n",
       "\n",
       "    .dataframe tbody tr th {\n",
       "        vertical-align: top;\n",
       "    }\n",
       "\n",
       "    .dataframe thead th {\n",
       "        text-align: right;\n",
       "    }\n",
       "</style>\n",
       "<table border=\"1\" class=\"dataframe\">\n",
       "  <thead>\n",
       "    <tr style=\"text-align: right;\">\n",
       "      <th></th>\n",
       "      <th>params</th>\n",
       "      <th>rank_test_score</th>\n",
       "      <th>mean_test_score</th>\n",
       "      <th>std_test_score</th>\n",
       "    </tr>\n",
       "    <tr>\n",
       "      <th>kernel</th>\n",
       "      <th></th>\n",
       "      <th></th>\n",
       "      <th></th>\n",
       "      <th></th>\n",
       "    </tr>\n",
       "  </thead>\n",
       "  <tbody>\n",
       "    <tr>\n",
       "      <th>6_auto</th>\n",
       "      <td>{'C': 6, 'gamma': 'auto'}</td>\n",
       "      <td>1</td>\n",
       "      <td>0.961399</td>\n",
       "      <td>0.000084</td>\n",
       "    </tr>\n",
       "    <tr>\n",
       "      <th>10_auto</th>\n",
       "      <td>{'C': 10, 'gamma': 'auto'}</td>\n",
       "      <td>2</td>\n",
       "      <td>0.961101</td>\n",
       "      <td>0.000223</td>\n",
       "    </tr>\n",
       "    <tr>\n",
       "      <th>10_scale</th>\n",
       "      <td>{'C': 10, 'gamma': 'scale'}</td>\n",
       "      <td>3</td>\n",
       "      <td>0.961071</td>\n",
       "      <td>0.000695</td>\n",
       "    </tr>\n",
       "    <tr>\n",
       "      <th>6_scale</th>\n",
       "      <td>{'C': 6, 'gamma': 'scale'}</td>\n",
       "      <td>4</td>\n",
       "      <td>0.960923</td>\n",
       "      <td>0.000719</td>\n",
       "    </tr>\n",
       "    <tr>\n",
       "      <th>3_auto</th>\n",
       "      <td>{'C': 3, 'gamma': 'auto'}</td>\n",
       "      <td>5</td>\n",
       "      <td>0.960714</td>\n",
       "      <td>0.000219</td>\n",
       "    </tr>\n",
       "    <tr>\n",
       "      <th>3_scale</th>\n",
       "      <td>{'C': 3, 'gamma': 'scale'}</td>\n",
       "      <td>6</td>\n",
       "      <td>0.960565</td>\n",
       "      <td>0.000730</td>\n",
       "    </tr>\n",
       "    <tr>\n",
       "      <th>1_scale</th>\n",
       "      <td>{'C': 1, 'gamma': 'scale'}</td>\n",
       "      <td>7</td>\n",
       "      <td>0.953720</td>\n",
       "      <td>0.000995</td>\n",
       "    </tr>\n",
       "    <tr>\n",
       "      <th>1_auto</th>\n",
       "      <td>{'C': 1, 'gamma': 'auto'}</td>\n",
       "      <td>8</td>\n",
       "      <td>0.953690</td>\n",
       "      <td>0.000870</td>\n",
       "    </tr>\n",
       "    <tr>\n",
       "      <th>0.6_auto</th>\n",
       "      <td>{'C': 0.6, 'gamma': 'auto'}</td>\n",
       "      <td>9</td>\n",
       "      <td>0.947232</td>\n",
       "      <td>0.002274</td>\n",
       "    </tr>\n",
       "    <tr>\n",
       "      <th>0.6_scale</th>\n",
       "      <td>{'C': 0.6, 'gamma': 'scale'}</td>\n",
       "      <td>10</td>\n",
       "      <td>0.947143</td>\n",
       "      <td>0.001609</td>\n",
       "    </tr>\n",
       "    <tr>\n",
       "      <th>0.3_auto</th>\n",
       "      <td>{'C': 0.3, 'gamma': 'auto'}</td>\n",
       "      <td>11</td>\n",
       "      <td>0.935863</td>\n",
       "      <td>0.002996</td>\n",
       "    </tr>\n",
       "    <tr>\n",
       "      <th>0.3_scale</th>\n",
       "      <td>{'C': 0.3, 'gamma': 'scale'}</td>\n",
       "      <td>12</td>\n",
       "      <td>0.935565</td>\n",
       "      <td>0.002990</td>\n",
       "    </tr>\n",
       "  </tbody>\n",
       "</table>\n",
       "</div>"
      ],
      "text/plain": [
       "                                 params  rank_test_score  mean_test_score  \\\n",
       "kernel                                                                      \n",
       "6_auto        {'C': 6, 'gamma': 'auto'}                1         0.961399   \n",
       "10_auto      {'C': 10, 'gamma': 'auto'}                2         0.961101   \n",
       "10_scale    {'C': 10, 'gamma': 'scale'}                3         0.961071   \n",
       "6_scale      {'C': 6, 'gamma': 'scale'}                4         0.960923   \n",
       "3_auto        {'C': 3, 'gamma': 'auto'}                5         0.960714   \n",
       "3_scale      {'C': 3, 'gamma': 'scale'}                6         0.960565   \n",
       "1_scale      {'C': 1, 'gamma': 'scale'}                7         0.953720   \n",
       "1_auto        {'C': 1, 'gamma': 'auto'}                8         0.953690   \n",
       "0.6_auto    {'C': 0.6, 'gamma': 'auto'}                9         0.947232   \n",
       "0.6_scale  {'C': 0.6, 'gamma': 'scale'}               10         0.947143   \n",
       "0.3_auto    {'C': 0.3, 'gamma': 'auto'}               11         0.935863   \n",
       "0.3_scale  {'C': 0.3, 'gamma': 'scale'}               12         0.935565   \n",
       "\n",
       "           std_test_score  \n",
       "kernel                     \n",
       "6_auto           0.000084  \n",
       "10_auto          0.000223  \n",
       "10_scale         0.000695  \n",
       "6_scale          0.000719  \n",
       "3_auto           0.000219  \n",
       "3_scale          0.000730  \n",
       "1_scale          0.000995  \n",
       "1_auto           0.000870  \n",
       "0.6_auto         0.002274  \n",
       "0.6_scale        0.001609  \n",
       "0.3_auto         0.002996  \n",
       "0.3_scale        0.002990  "
      ]
     },
     "execution_count": 25,
     "metadata": {},
     "output_type": "execute_result"
    }
   ],
   "source": [
    "model_results_df = pd.DataFrame(model.cv_results_)\n",
    "model_results_df = model_results_df.sort_values(by=['rank_test_score'])\n",
    "model_results_df = (\n",
    "    model_results_df\n",
    "    .set_index(model_results_df[\"params\"].apply(\n",
    "        lambda x: \"_\".join(str(val) for val in x.values()))\n",
    "    )\n",
    "    .rename_axis('kernel')\n",
    ")\n",
    "model_results_df[\n",
    "    ['params', 'rank_test_score', 'mean_test_score', 'std_test_score']\n",
    "]"
   ]
  },
  {
   "cell_type": "code",
   "execution_count": 26,
   "metadata": {
    "scrolled": true
   },
   "outputs": [
    {
     "data": {
      "text/plain": [
       "SVC(C=6, gamma='auto')"
      ]
     },
     "execution_count": 26,
     "metadata": {},
     "output_type": "execute_result"
    }
   ],
   "source": [
    "model.best_estimator_"
   ]
  },
  {
   "cell_type": "code",
   "execution_count": 27,
   "metadata": {},
   "outputs": [
    {
     "data": {
      "text/plain": [
       "0.9613988095238094"
      ]
     },
     "execution_count": 27,
     "metadata": {},
     "output_type": "execute_result"
    }
   ],
   "source": [
    "model.best_score_"
   ]
  },
  {
   "cell_type": "code",
   "execution_count": 27,
   "metadata": {},
   "outputs": [],
   "source": [
    "# # Save Model\n",
    "# joblib.dump(model, model_file)"
   ]
  },
  {
   "cell_type": "markdown",
   "metadata": {},
   "source": [
    "# Metric Evaluation"
   ]
  },
  {
   "cell_type": "code",
   "execution_count": 130,
   "metadata": {},
   "outputs": [],
   "source": [
    "y_pred = model.predict(X_test)"
   ]
  },
  {
   "cell_type": "code",
   "execution_count": 131,
   "metadata": {},
   "outputs": [
    {
     "data": {
      "text/plain": [
       "array([[802,   0,   3,   0,   0,   1,   9,   0,   1,   0],\n",
       "       [  0, 894,   9,   1,   1,   1,   0,   1,   1,   1],\n",
       "       [  2,   4, 822,   4,   2,   0,   4,   2,   5,   1],\n",
       "       [  0,   0,  12, 894,   0,  10,   0,   6,  10,   5],\n",
       "       [  1,   1,   7,   0, 811,   1,   5,   2,   0,  11],\n",
       "       [  1,   1,   6,  11,   1, 668,  10,   2,   2,   0],\n",
       "       [  4,   1,  11,   0,   1,   2, 763,   0,   3,   0],\n",
       "       [  0,   3,  11,   3,   6,   3,   0, 860,   0,   7],\n",
       "       [  1,   3,   8,   9,   4,   7,   2,   2, 796,   3],\n",
       "       [  1,   1,   5,   6,   8,   4,   0,  12,   2, 799]], dtype=int64)"
      ]
     },
     "execution_count": 131,
     "metadata": {},
     "output_type": "execute_result"
    }
   ],
   "source": [
    "conf_m = confusion_matrix(y_test, y_pred)\n",
    "conf_m"
   ]
  },
  {
   "cell_type": "code",
   "execution_count": 132,
   "metadata": {},
   "outputs": [
    {
     "data": {
      "text/plain": [
       "Text(0.5, 1.0, 'Confusion Matrix Plot')"
      ]
     },
     "execution_count": 132,
     "metadata": {},
     "output_type": "execute_result"
    },
    {
     "data": {
      "image/png": "[encoded data removed]",
      "text/plain": [
       "<Figure size 1080x576 with 2 Axes>"
      ]
     },
     "metadata": {
      "needs_background": "light"
     },
     "output_type": "display_data"
    }
   ],
   "source": [
    "plt.figure(figsize=(15,8))\n",
    "sns.heatmap(conf_m, annot=True, fmt=\"g\")\n",
    "plt.xlabel(\"Predicted\")\n",
    "plt.ylabel(\"Actual\")\n",
    "plt.title(\"Confusion Matrix Plot\")"
   ]
  },
  {
   "cell_type": "code",
   "execution_count": 133,
   "metadata": {},
   "outputs": [
    {
     "data": {
      "text/plain": [
       "array([98.28, 98.35, 97.16, 95.41, 96.66, 95.16, 97.2 , 96.3 , 95.33,\n",
       "       95.35, 96.54])"
      ]
     },
     "execution_count": 133,
     "metadata": {},
     "output_type": "execute_result"
    }
   ],
   "source": [
    "# akurasi per setiap digit\n",
    "dig_accuracy = np.arange(11).astype('float64')\n",
    "\n",
    "for i in range(10) :\n",
    "    dig_accuracy[i] = conf_m[i,i] / sum(conf_m[i]) * 100\n",
    "    dig_accuracy[i] = round(dig_accuracy[i], 2)\n",
    "\n",
    "#akurasi keseluruhan\n",
    "dig_accuracy[10] = round(accuracy_score(y_test, y_pred) *100, 2)\n",
    "dig_accuracy"
   ]
  },
  {
   "cell_type": "code",
   "execution_count": 134,
   "metadata": {},
   "outputs": [
    {
     "data": {
      "text/html": [
       "<div>\n",
       "<style scoped>\n",
       "    .dataframe tbody tr th:only-of-type {\n",
       "        vertical-align: middle;\n",
       "    }\n",
       "\n",
       "    .dataframe tbody tr th {\n",
       "        vertical-align: top;\n",
       "    }\n",
       "\n",
       "    .dataframe thead th {\n",
       "        text-align: right;\n",
       "    }\n",
       "</style>\n",
       "<table border=\"1\" class=\"dataframe\">\n",
       "  <thead>\n",
       "    <tr style=\"text-align: right;\">\n",
       "      <th></th>\n",
       "      <th>Accuracy</th>\n",
       "    </tr>\n",
       "    <tr>\n",
       "      <th>Label</th>\n",
       "      <th></th>\n",
       "    </tr>\n",
       "  </thead>\n",
       "  <tbody>\n",
       "    <tr>\n",
       "      <th>0</th>\n",
       "      <td>98.28</td>\n",
       "    </tr>\n",
       "    <tr>\n",
       "      <th>1</th>\n",
       "      <td>98.35</td>\n",
       "    </tr>\n",
       "    <tr>\n",
       "      <th>2</th>\n",
       "      <td>97.16</td>\n",
       "    </tr>\n",
       "    <tr>\n",
       "      <th>3</th>\n",
       "      <td>95.41</td>\n",
       "    </tr>\n",
       "    <tr>\n",
       "      <th>4</th>\n",
       "      <td>96.66</td>\n",
       "    </tr>\n",
       "    <tr>\n",
       "      <th>5</th>\n",
       "      <td>95.16</td>\n",
       "    </tr>\n",
       "    <tr>\n",
       "      <th>6</th>\n",
       "      <td>97.20</td>\n",
       "    </tr>\n",
       "    <tr>\n",
       "      <th>7</th>\n",
       "      <td>96.30</td>\n",
       "    </tr>\n",
       "    <tr>\n",
       "      <th>8</th>\n",
       "      <td>95.33</td>\n",
       "    </tr>\n",
       "    <tr>\n",
       "      <th>9</th>\n",
       "      <td>95.35</td>\n",
       "    </tr>\n",
       "    <tr>\n",
       "      <th>Total</th>\n",
       "      <td>96.54</td>\n",
       "    </tr>\n",
       "  </tbody>\n",
       "</table>\n",
       "</div>"
      ],
      "text/plain": [
       "       Accuracy\n",
       "Label          \n",
       "0         98.28\n",
       "1         98.35\n",
       "2         97.16\n",
       "3         95.41\n",
       "4         96.66\n",
       "5         95.16\n",
       "6         97.20\n",
       "7         96.30\n",
       "8         95.33\n",
       "9         95.35\n",
       "Total     96.54"
      ]
     },
     "execution_count": 134,
     "metadata": {},
     "output_type": "execute_result"
    }
   ],
   "source": [
    "df_accuracy = pd.DataFrame({\"Label\":[0,1,2,3,4,5,6,7,8,9,\"Total\"], \"Accuracy\":dig_accuracy}).set_index(\"Label\")\n",
    "\n",
    "df_accuracy"
   ]
  },
  {
   "cell_type": "markdown",
   "metadata": {},
   "source": [
    "## Kesimpulan : Akurasi setiap digit berada diatas 95% dan akurasi keseluruhan sebesar 96%. "
   ]
  },
  {
   "cell_type": "code",
   "execution_count": 136,
   "metadata": {},
   "outputs": [],
   "source": [
    "# create a sample and get sample\n",
    "\n",
    "import cv2\n",
    "\n",
    "# def save_sample():\n",
    "#     X_sample = scaler.inverse_transform(X_test)\n",
    "#     for i in range(10):\n",
    "#         index = np.where(y_test == i)[0]\n",
    "#         for j in range(10):\n",
    "#             cv2.imwrite('dataset/sample/'+str(i)+'-'+str(j)+'.png', X_sample[index[j]].reshape((28,28)))\n",
    "            \n",
    "def get_sample(digit=0, number=None):\n",
    "    if number is None:\n",
    "        number = np.random.randint(0, 10, 1)[0]\n",
    "    sourc = 'dataset/sample/'+ str(digit)+ '-'+ str(number)+ '.png'\n",
    "    print(sourc)\n",
    "    img = cv2.imread(sourc)\n",
    "    img = cv2.cvtColor(img, cv2.COLOR_RGB2GRAY)\n",
    "    return img\n",
    "\n",
    "# get_sample(digit=1, number=1)"
   ]
  },
  {
   "cell_type": "code",
   "execution_count": 203,
   "metadata": {},
   "outputs": [
    {
     "name": "stdout",
     "output_type": "stream",
     "text": [
      "dataset/sample/5-6.png\n"
     ]
    },
    {
     "data": {
      "text/plain": [
       "<matplotlib.image.AxesImage at 0x2388370f760>"
      ]
     },
     "execution_count": 203,
     "metadata": {},
     "output_type": "execute_result"
    },
    {
     "data": {
      "image/png": "[encoded data removed]",
      "text/plain": [
       "<Figure size 432x288 with 1 Axes>"
      ]
     },
     "metadata": {
      "needs_background": "light"
     },
     "output_type": "display_data"
    }
   ],
   "source": [
    "select = input(\"Masukkan digit yang ingin diprediksi :\")\n",
    "sample = get_sample(digit=select)\n",
    "plt.imshow(sample)"
   ]
  },
  {
   "cell_type": "code",
   "execution_count": 204,
   "metadata": {},
   "outputs": [
    {
     "name": "stdout",
     "output_type": "stream",
     "text": [
      "Hasil Prediksi :  5\n"
     ]
    }
   ],
   "source": [
    "sample = sample.flatten()\n",
    "sample = sample.reshape(1,-1)\n",
    "sample = scaler.transform(sample)\n",
    "\n",
    "classes = model.predict(sample)\n",
    "print(\"Hasil Prediksi : \", classes[0])"
   ]
  }
 ],
 "metadata": {
  "kernelspec": {
   "display_name": "Python 3 (ipykernel)",
   "language": "python",
   "name": "python3"
  },
  "language_info": {
   "codemirror_mode": {
    "name": "ipython",
    "version": 3
   },
   "file_extension": ".py",
   "mimetype": "text/x-python",
   "name": "python",
   "nbconvert_exporter": "python",
   "pygments_lexer": "ipython3",
   "version": "3.9.9"
  }
 },
 "nbformat": 4,
 "nbformat_minor": 2
}
